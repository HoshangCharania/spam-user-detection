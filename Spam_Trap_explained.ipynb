{
 "cells": [
  {
   "cell_type": "markdown",
   "metadata": {},
   "source": [
    "# Spam Trap Catcher for Drupal"
   ]
  },
  {
   "cell_type": "markdown",
   "metadata": {},
   "source": [
    "## Importing the required libraries"
   ]
  },
  {
   "cell_type": "code",
   "execution_count": 1,
   "metadata": {
    "collapsed": false
   },
   "outputs": [],
   "source": [
    "import pandas as pd\n",
    "import numpy as np\n",
    "import matplotlib.pyplot as plt\n",
    "import seaborn as sb\n",
    "import MySQLdb\n",
    "from sshtunnel import SSHTunnelForwarder\n",
    "import os\n",
    "import time\n",
    "import multiprocessing\n",
    "from multiprocessing import Pool\n",
    "from multiprocessing import Process, Manager\n",
    "import re"
   ]
  },
  {
   "cell_type": "markdown",
   "metadata": {},
   "source": [
    "## SSH'ing inside the server we need to login into and obtaining the Dataframe:\n",
    "### This will only be possible if your firewall allows server to server Tunnel Forwarding.\n",
    "#### ssh -g -L 3306:127.0.0.1:3006 -f -N username@servername"
   ]
  },
  {
   "cell_type": "code",
   "execution_count": 2,
   "metadata": {
    "collapsed": true
   },
   "outputs": [],
   "source": [
    "#server = SSHTunnelForwarder(\n",
    "#    'servername',\n",
    "#    ssh_username=\"username\",\n",
    "#    ssh_password=\"password\",\n",
    "#    remote_bind_address=('127.0.0.1', 3306)\n",
    "#)\n",
    "\n",
    "#server.start()\n",
    "\n",
    "#print(server.local_bind_port)  # show assigned local port\n",
    "# work with `SECRET SERVICE` through `server.local_bind_port`.\n",
    "\n",
    "#server.stop()"
   ]
  },
  {
   "cell_type": "code",
   "execution_count": 3,
   "metadata": {
    "collapsed": true
   },
   "outputs": [],
   "source": [
    "#db=MySQLdb.connect(host=\"127.0.0.1\",port=server.local_bind_port,user=\"username_db\",\n",
    "#                  passwd=\"password_db\",db=\"dbname\")"
   ]
  },
  {
   "cell_type": "code",
   "execution_count": 4,
   "metadata": {
    "collapsed": true
   },
   "outputs": [],
   "source": [
    "#c=db.cursor()\n",
    "#test=c.fetchmany(100)\n",
    "#test='SELECT users.*,coalesce(user_settings.setting_value) AS biography, coalesce(signs.setting_value) AS signature FROM users LEFT OUTER JOIN user_settings ON (users.user_id = user_settings.user_id AND user_settings.setting_name=\"biography\") LEFT OUTER JOIN user_settings AS signs ON (users.user_id = signs.user_id AND signs.setting_name=\"signature\") GROUP BY users.user_id'"
   ]
  },
  {
   "cell_type": "code",
   "execution_count": 5,
   "metadata": {
    "collapsed": true
   },
   "outputs": [],
   "source": [
    "#dF=pd.read_sql(test,db)"
   ]
  },
  {
   "cell_type": "code",
   "execution_count": 6,
   "metadata": {
    "collapsed": false
   },
   "outputs": [],
   "source": [
    "#server.stop()"
   ]
  },
  {
   "cell_type": "markdown",
   "metadata": {},
   "source": [
    "## Normal CSV file reading instead of Tunneling"
   ]
  },
  {
   "cell_type": "code",
   "execution_count": 7,
   "metadata": {
    "collapsed": false
   },
   "outputs": [
    {
     "name": "stderr",
     "output_type": "stream",
     "text": [
      "/home/hok14/anaconda3/lib/python3.6/site-packages/IPython/core/interactiveshell.py:2717: DtypeWarning: Columns (12,16,24) have mixed types. Specify dtype option on import or set low_memory=False.\n",
      "  interactivity=interactivity, compiler=compiler, result=result)\n"
     ]
    }
   ],
   "source": [
    "dF=pd.read_csv(\"allusers_cat.csv\") #name of the file"
   ]
  },
  {
   "cell_type": "markdown",
   "metadata": {},
   "source": [
    "## 1) Spamwords"
   ]
  },
  {
   "cell_type": "markdown",
   "metadata": {},
   "source": [
    "### 1-a) Spamword Set 1"
   ]
  },
  {
   "cell_type": "markdown",
   "metadata": {},
   "source": [
    "### I have already done web scraping for this one and made it into a csv file"
   ]
  },
  {
   "cell_type": "code",
   "execution_count": 8,
   "metadata": {
    "collapsed": true
   },
   "outputs": [],
   "source": [
    "spamwords=pd.read_csv(\"spamwords.csv\", index_col=0)"
   ]
  },
  {
   "cell_type": "code",
   "execution_count": 9,
   "metadata": {
    "collapsed": true
   },
   "outputs": [],
   "source": [
    "spamwords=spamwords[:447]"
   ]
  },
  {
   "cell_type": "code",
   "execution_count": 10,
   "metadata": {
    "collapsed": true
   },
   "outputs": [],
   "source": [
    "spamwords=spamwords.fillna(\"FREEE\")"
   ]
  },
  {
   "cell_type": "code",
   "execution_count": 11,
   "metadata": {
    "collapsed": true
   },
   "outputs": [],
   "source": [
    "swords=spamwords[\"spam\"].tolist()"
   ]
  },
  {
   "cell_type": "code",
   "execution_count": 12,
   "metadata": {
    "collapsed": false
   },
   "outputs": [],
   "source": [
    "temp=dF"
   ]
  },
  {
   "cell_type": "code",
   "execution_count": 13,
   "metadata": {
    "collapsed": false
   },
   "outputs": [],
   "source": [
    "temp[\"setting_value\"]=temp[\"signature\"].astype(str)+temp[\"biography\"]\n",
    "first=temp[\"user_id\"].tolist()\n",
    "second=temp[\"setting_value\"].tolist()\n",
    "third=[]\n",
    "nan=np.nan\n",
    "for x in range(0,len(first)):\n",
    "    if(second[x] is nan):\n",
    "        second[x]=\"0\"\n",
    "    third.append([first[x],second[x]])"
   ]
  },
  {
   "cell_type": "code",
   "execution_count": 14,
   "metadata": {
    "collapsed": false
   },
   "outputs": [
    {
     "name": "stdout",
     "output_type": "stream",
     "text": [
      "Total time 1.2494401931762695\n"
     ]
    }
   ],
   "source": [
    "def spam_count(user_id):\n",
    "    #print(user_id[0])\n",
    "    count=0\n",
    "    trial=[]\n",
    "    for x in range(0, len(spamwords)):\n",
    "        temp_count=str(user_id[1]).count(str(swords[x]))\n",
    "        if(temp_count>0):\n",
    "            trial.append(str(swords[x]))\n",
    "        count=temp_count+count\n",
    "    #print(user_id[0],count,trial)\n",
    "    return (user_id[0],count,trial)\n",
    "\n",
    "p = Pool(16)\n",
    "#list_val=temp[[\"user_id\",\"setting_value\"]].tolist()\n",
    "t0=time.time()\n",
    "at=p.map(spam_count,third)\n",
    "t1=time.time()\n",
    "total=t1-t0\n",
    "print(\"Total time\",total)"
   ]
  },
  {
   "cell_type": "code",
   "execution_count": 15,
   "metadata": {
    "collapsed": true
   },
   "outputs": [],
   "source": [
    "users=[];\n",
    "for x in range(0,len(at)):\n",
    "    if(len(at[x][2])>0):\n",
    "        users.append(at[x][0])"
   ]
  },
  {
   "cell_type": "code",
   "execution_count": 16,
   "metadata": {
    "collapsed": true
   },
   "outputs": [],
   "source": [
    "score_number_table1=[];\n",
    "for x in range(0,len(at)):\n",
    "    score_number_table1.append(at[x][1])"
   ]
  },
  {
   "cell_type": "code",
   "execution_count": 17,
   "metadata": {
    "collapsed": false
   },
   "outputs": [
    {
     "name": "stdout",
     "output_type": "stream",
     "text": [
      "Total time 1.0260543823242188\n"
     ]
    }
   ],
   "source": [
    "def spam_count(user_id):\n",
    "    #print(user_id[0])\n",
    "    count=0\n",
    "    trial=[]\n",
    "    for x in range(0, len(spamwords)):\n",
    "        temp_count=0\n",
    "        if str(swords[x]) in str(user_id[1]):\n",
    "            temp_count=1\n",
    "        else:\n",
    "            temp_count=0\n",
    "        if(temp_count>0):\n",
    "            trial.append(str(swords[x]))\n",
    "        count=temp_count+count\n",
    "    #print(user_id[0],count,trial)\n",
    "    return (user_id[0],count,trial)\n",
    "\n",
    "p = Pool(16)\n",
    "#list_val=temp[[\"user_id\",\"setting_value\"]].tolist()\n",
    "t0=time.time()\n",
    "at1=p.map(spam_count,third)\n",
    "t1=time.time()\n",
    "total=t1-t0\n",
    "print(\"Total time\",total)\n",
    "p.close()"
   ]
  },
  {
   "cell_type": "code",
   "execution_count": 18,
   "metadata": {
    "collapsed": true
   },
   "outputs": [],
   "source": [
    "score_table1=[];\n",
    "for x in range(0,len(at1)):\n",
    "    score_table1.append(at1[x][1])"
   ]
  },
  {
   "cell_type": "markdown",
   "metadata": {},
   "source": [
    "### 1-b) Spamword Set 2"
   ]
  },
  {
   "cell_type": "code",
   "execution_count": 19,
   "metadata": {
    "collapsed": false
   },
   "outputs": [
    {
     "name": "stdout",
     "output_type": "stream",
     "text": [
      "<class 'bs4.BeautifulSoup'>\n"
     ]
    },
    {
     "name": "stderr",
     "output_type": "stream",
     "text": [
      "/home/hok14/anaconda3/lib/python3.6/site-packages/bs4/__init__.py:181: UserWarning: No parser was explicitly specified, so I'm using the best available HTML parser for this system (\"lxml\"). This usually isn't a problem, but if you run this code on another system, or in a different virtual environment, it may use a different parser and behave differently.\n",
      "\n",
      "The code that caused this warning is on line 193 of the file /home/hok14/anaconda3/lib/python3.6/runpy.py. To get rid of this warning, change code that looks like this:\n",
      "\n",
      " BeautifulSoup([your markup])\n",
      "\n",
      "to this:\n",
      "\n",
      " BeautifulSoup([your markup], \"lxml\")\n",
      "\n",
      "  markup_type=markup_type))\n"
     ]
    }
   ],
   "source": [
    "from bs4 import BeautifulSoup\n",
    "import urllib.request\n",
    "ra = urllib.request.urlopen(\"https://blog.hubspot.com/blog/tabid/6307/bid/30684/the-ultimate-list-of-email-spam-trigger-words.aspx\")\n",
    "r=ra.read()\n",
    "soup = BeautifulSoup(r)\n",
    "print(type(soup))\n",
    "#print(soup.prettify()[0:1000000])"
   ]
  },
  {
   "cell_type": "code",
   "execution_count": 20,
   "metadata": {
    "collapsed": false
   },
   "outputs": [
    {
     "name": "stdout",
     "output_type": "stream",
     "text": [
      "['Buying judgments', 'Clearance', 'Order', 'Order status', 'Orders shipped by', 'shopper', 'Double your', 'Earn $', 'Earn extra cash', 'Earn per week', 'Expect to earn', 'Extra income', 'Home based', 'Home employment', 'Homebased business', 'Income from home', 'Make $', 'Make money', 'Money making', 'Online biz opportunity', 'Online degree', 'Opportunity', 'Potential earnings', 'University diplomas', 'While you sleep', 'Work at home', 'Work from home', 'Beneficiary', 'Best price', 'Big bucks', 'Cash', 'Cash bonus', 'Cashcashcash', 'Cents on the dollar', 'Cheap', 'Check', 'Claims', 'Collect', 'Compare rates', 'Cost', 'Credit', 'Credit bureaus', 'Discount', 'Earn', 'Easy terms', 'F r e e', 'Fast cash', 'For just $XXX', 'Hidden assets', 'hidden charges', 'Income', 'Incredible deal', 'Insurance', 'Investment', 'Loans', 'Lowest price', 'Million dollars', 'Money', 'Money back', 'Mortgage', 'Mortgage rates', 'No cost', 'No fees', 'One hundred percent free', 'Only $', 'Pennies a day', 'Price', 'Profits', 'Pure profit', 'Quote', 'Refinance', 'Save $', 'Save big money', 'Save up to', 'Serious cash', 'Subject to credit', 'They keep your money -- no refund!', 'Unsecured credit', 'Unsecured debt', 'US dollars', 'Why pay more?', 'Credit card offers', 'Explode your business', 'Full refund', 'Investment decision', 'No credit check', 'No hidden Costs', 'No investment', 'Requires initial investment', 'Sent in compliance', 'Stock alert', 'Stock disclaimer statement', 'Stock pick', 'Consolidate debt and credit', 'Consolidate your debt', 'Eliminate bad credit', 'Eliminate debt', 'Financially independent', 'Get out of debt', 'Get paid', 'Lower interest rate', 'Lower monthly payment', 'Lower your mortgage rate', 'Lowest insurance rates', 'Pre-approved', 'Refinance home', 'Social security number', 'Your income', 'Chance', 'Dormant', 'Freedom', 'Here', 'Hidden', 'Home', 'Leave', 'Lifetime', 'Lose', 'Maintained', 'Medium', 'Miracle', 'Never', 'Passwords', 'Problem', 'Remove', 'Reverses', 'Sample', 'Satisfaction', 'Solution', 'Stop', 'Success', 'Teen', 'Wife', 'Click', 'Click below', 'Click here', 'Click to remove', 'Direct email', 'Direct marketing', 'Email harvest', 'Email marketing', 'Form', 'Increase sales', 'Increase traffic', 'Increase your sales', 'Internet market', 'Internet marketing', 'Marketing', 'Marketing solutions', 'Mass email', 'Member', 'Month trial offer', 'More Internet Traffic', 'Multi level marketing', 'Notspam', 'One time mailing', 'Online marketing', 'Open', 'Opt in', 'Performance', 'Removal instructions', 'Sale', 'Sales', 'Search engine listings', 'Search engines', 'Subscribe', 'The following form', \"This isn't junk\", \"This isn't spam\", 'Undisclosed recipient', 'Unsubscribe', 'Visit our website', 'We hate spam', 'Web traffic', 'Will not believe your eyes', 'Human growth hormone', 'Life Insurance', 'Lose weight', 'Lose weight spam', 'Medicine', 'No medical exams', 'Online pharmacy', 'Removes wrinkles', 'Reverses aging', 'Stop snoring', 'Valium', 'Viagra', 'Vicodin', 'Weight loss', 'Xanax', '4U', '50% off', 'Billion', 'Billion dollars', 'Join millions', 'Join millions of Americans', 'Million', 'One hundred percent guaranteed', 'Thousands', 'Cannot be combined with any other offer', 'Confidentially on all orders', 'Deal', 'Financial freedom', 'Gift certificate', 'Giving away', 'Guarantee', 'Have you been turned down?', 'If only it were that easy', 'Important information regarding', 'In accordance with laws', 'Long distance phone offer', 'Mail in order form', 'Message contains', 'Name brand', 'Nigerian', 'No age restrictions', 'No catch', 'No claim forms', 'No disappointment', 'No experience', 'No gimmick', 'No inventory', 'No middleman', 'No obligation', 'No purchase necessary', 'No questions asked', 'No selling', 'No strings attached', 'No-obligation', 'Not intended', 'Obligation', 'Off shore', 'Offer', 'Per day', 'Per week', 'Priority mail', 'Prize', 'Prizes', 'Produced and sent out', 'Reserves the right', 'Shopping spree', 'Stuff on sale', 'Terms and conditions', 'The best rates', 'They’re just giving it away', 'Trial', 'unlimited', 'Unsolicited', 'Vacation', 'Vacation offers', 'Warranty', 'We honor all', 'Weekend getaway', 'What are you waiting for?', 'Who really wins?', 'Win', 'Winner', 'Winning', 'won', 'You are a winner!', 'You have been selected', 'You’re a Winner!', 'Get', 'Give it away', 'Print form signature', 'Print out and fax', 'See for yourself', 'Sign up free today', 'Free consultation', 'Free DVD', 'Free gift', 'Free grant money', 'Free hosting', 'Free installation', 'Free Instant', 'Free investment', 'Free leads', 'Free membership', 'Free money', 'Free offer', 'Free preview', 'Free priority mail', 'Free quote', 'Free sample', 'Free trial', 'Free website', 'Certified', 'Congratulations', 'Drastically reduced', 'Fantastic deal', 'For free', 'Guaranteed', 'It’s effective', 'Outstanding values', 'Promise you', 'Real thing', 'Risk free', 'Satisfaction guaranteed', 'Apply Online', 'Call free', 'Call now', \"Can't live without\", 'Do it today', \"Don't delete\", \"Don't hesitate\", 'For instant access', 'For Only', 'For you', 'Get it now', 'Get started now', 'Great offer', 'Info you requested', 'Information you requested', 'Instant', 'limited time', 'New customers only', 'Now', 'Now only', 'Offer expires', 'Once in lifetime', 'One time', 'Only', 'Order now', 'Order today', 'Please read', 'Special promotion', 'Supplies are limited', 'Take action now', 'Time limited', 'Urgent', 'While supplies last', 'Brand new pager', 'Cable converter', 'Casino', 'Celebrity', 'Copy DVDs', 'Laser printer', 'Legal', 'Luxury car', 'New domain extensions', 'Phone', 'Rolex', 'Stainless steel']\n"
     ]
    },
    {
     "name": "stderr",
     "output_type": "stream",
     "text": [
      "/home/hok14/anaconda3/lib/python3.6/site-packages/bs4/__init__.py:181: UserWarning: No parser was explicitly specified, so I'm using the best available HTML parser for this system (\"lxml\"). This usually isn't a problem, but if you run this code on another system, or in a different virtual environment, it may use a different parser and behave differently.\n",
      "\n",
      "The code that caused this warning is on line 193 of the file /home/hok14/anaconda3/lib/python3.6/runpy.py. To get rid of this warning, change code that looks like this:\n",
      "\n",
      " BeautifulSoup([your markup])\n",
      "\n",
      "to this:\n",
      "\n",
      " BeautifulSoup([your markup], \"lxml\")\n",
      "\n",
      "  markup_type=markup_type))\n"
     ]
    }
   ],
   "source": [
    "import numbers\n",
    "#a=soup.table\n",
    "trs=soup.findAll('tr')\n",
    "#b=a[0].next_element\n",
    "#print(b)\n",
    "#i=0;\n",
    "spam=[]\n",
    "tables = soup.findAll(\"table\")\n",
    "\n",
    "for table in tables:\n",
    "    if table.findParent(\"table\") is None:\n",
    "        a=str(table)\n",
    "        soup2 = BeautifulSoup(a)\n",
    "        for row in soup2.find_all(\"tr\")[1:]:  #row by row\n",
    "            col = row.find_all(\"td\") # differentiating the td into columns.\n",
    "            col = [ele.text.strip() for ele in col]\n",
    "            #i=i+1;\n",
    "            #print(i)\n",
    "            try:                     #trying to convert them into strings.\n",
    "                spam.append(str(col[0]))\n",
    "                spam.append(str(col[1]))\n",
    "                spam.append(str(col[2]))\n",
    "                #spam.append(str(col[3])) ## I could've put them in a for loop\n",
    "                # but then I would have to rewrite the code for try and except\n",
    "            except OSError as err:\n",
    "                print(\"OS error: {0}\".format(err))\n",
    "            except ValueError:\n",
    "                print(\"Expected a string and got something else\") \n",
    "            except:\n",
    "                print(\"Unexpected error:\", sys.exc_info()[0])\n",
    "                raise\n",
    "                #print(col)\n",
    "                print(\"---\")\n",
    "            #print(spam)\n",
    "        \n",
    "print(spam)"
   ]
  },
  {
   "cell_type": "code",
   "execution_count": 21,
   "metadata": {
    "collapsed": false
   },
   "outputs": [
    {
     "name": "stdout",
     "output_type": "stream",
     "text": [
      "Total time 0.9342660903930664\n"
     ]
    }
   ],
   "source": [
    "def spam_count(user_id):\n",
    "    #print(user_id[0])\n",
    "    count=0\n",
    "    trial=[]\n",
    "    for x in range(0, len(spam)):\n",
    "        temp_count=str(user_id[1]).count(str(spam[x]))\n",
    "        if(temp_count>0):\n",
    "            trial.append(str(swords[x]))\n",
    "        count=temp_count+count\n",
    "    #print(user_id[0],count,trial)\n",
    "    return (user_id[0],count,trial)\n",
    "\n",
    "p = Pool(16)\n",
    "#list_val=temp[[\"user_id\",\"setting_value\"]].tolist()\n",
    "t0=time.time()\n",
    "at2=p.map(spam_count,third)\n",
    "t1=time.time()\n",
    "total=t1-t0\n",
    "print(\"Total time\",total)"
   ]
  },
  {
   "cell_type": "code",
   "execution_count": 22,
   "metadata": {
    "collapsed": true
   },
   "outputs": [],
   "source": [
    "users2=[];\n",
    "for x in range(0,len(at2)):\n",
    "    if(len(at2[x][2])>0):\n",
    "        users2.append(at2[x][0])"
   ]
  },
  {
   "cell_type": "code",
   "execution_count": 23,
   "metadata": {
    "collapsed": true
   },
   "outputs": [],
   "source": [
    "u12=0\n",
    "for x in range(0,len(users)):\n",
    "    for i in range(0, len(users2)):\n",
    "        if(users[x]==users2[i]):\n",
    "            u12=u12+1\n",
    "            break;"
   ]
  },
  {
   "cell_type": "code",
   "execution_count": 24,
   "metadata": {
    "collapsed": true
   },
   "outputs": [],
   "source": [
    "score_number_table2=[];\n",
    "for x in range(0,len(at2)):\n",
    "    score_number_table2.append(at2[x][1])"
   ]
  },
  {
   "cell_type": "code",
   "execution_count": 25,
   "metadata": {
    "collapsed": false
   },
   "outputs": [
    {
     "name": "stdout",
     "output_type": "stream",
     "text": [
      "Total time 0.8014814853668213\n"
     ]
    }
   ],
   "source": [
    "def spam_count(user_id):\n",
    "    #print(user_id[0])\n",
    "    count=0\n",
    "    trial=[]\n",
    "    for x in range(0, len(spam)):\n",
    "        temp_count=0\n",
    "        if str(spam[x]) in str(user_id[1]):\n",
    "            temp_count=1\n",
    "        else:\n",
    "            temp_count=0\n",
    "        if(temp_count>0):\n",
    "            trial.append(str(swords[x]))\n",
    "        count=temp_count+count\n",
    "    #print(user_id[0],count,trial)\n",
    "    return (user_id[0],count,trial)\n",
    "\n",
    "p = Pool(16)\n",
    "#list_val=temp[[\"user_id\",\"setting_value\"]].tolist()\n",
    "t0=time.time()\n",
    "at3=p.map(spam_count,third)\n",
    "t1=time.time()\n",
    "total=t1-t0\n",
    "print(\"Total time\",total)\n",
    "p.close()"
   ]
  },
  {
   "cell_type": "code",
   "execution_count": 26,
   "metadata": {
    "collapsed": true
   },
   "outputs": [],
   "source": [
    "score_table2=[];\n",
    "for x in range(0,len(at3)):\n",
    "    score_table2.append(at3[x][1])"
   ]
  },
  {
   "cell_type": "code",
   "execution_count": 27,
   "metadata": {
    "collapsed": true
   },
   "outputs": [],
   "source": [
    "dF[\"score_number_table1\"]=score_number_table1\n",
    "dF[\"score_table1\"]=score_table1\n",
    "dF[\"score_table2\"]=score_table2\n",
    "dF[\"score_number_table2\"]=score_number_table2"
   ]
  },
  {
   "cell_type": "code",
   "execution_count": 28,
   "metadata": {
    "collapsed": false
   },
   "outputs": [],
   "source": [
    "dF['score_table']=dF['score_table1']+dF['score_table2']\n",
    "dF['score_number_table']=dF['score_number_table1']+dF['score_number_table2']"
   ]
  },
  {
   "cell_type": "markdown",
   "metadata": {},
   "source": [
    "## 2) URLS in the biography and signature"
   ]
  },
  {
   "cell_type": "code",
   "execution_count": 29,
   "metadata": {
    "collapsed": false
   },
   "outputs": [
    {
     "name": "stdout",
     "output_type": "stream",
     "text": [
      "Total time 0.08834314346313477\n"
     ]
    }
   ],
   "source": [
    "from multiprocessing import Pool\n",
    "from multiprocessing import Process, Manager\n",
    "def spam_count(user_id):\n",
    "    #print(user_id[0])\n",
    "    count=0\n",
    "    count=str(user_id[1]).count(\"http\")\n",
    "    #print(user_id[0],count,trial)\n",
    "    return (user_id[0],count)\n",
    "\n",
    "p = Pool(16)\n",
    "#list_val=temp[[\"user_id\",\"setting_value\"]].tolist()\n",
    "t0=time.time()\n",
    "at4=p.map(spam_count,third)\n",
    "t1=time.time()\n",
    "total=t1-t0\n",
    "print(\"Total time\",total)"
   ]
  },
  {
   "cell_type": "code",
   "execution_count": 30,
   "metadata": {
    "collapsed": true
   },
   "outputs": [],
   "source": [
    "temp=[]\n",
    "for x in range(0,len(at)):\n",
    "    temp.append(at4[x][1])"
   ]
  },
  {
   "cell_type": "code",
   "execution_count": 31,
   "metadata": {
    "collapsed": true
   },
   "outputs": [],
   "source": [
    "dF[\"links\"]=temp"
   ]
  },
  {
   "cell_type": "code",
   "execution_count": 32,
   "metadata": {
    "collapsed": false
   },
   "outputs": [
    {
     "name": "stdout",
     "output_type": "stream",
     "text": [
      "The average is 1.0809283183996665 Max is 325\n"
     ]
    }
   ],
   "source": [
    "#dF[\"links\"].hist()\n",
    "bins = np.linspace(0, 10, 40) # Starts with 0, last one is 3, \n",
    "avg=sum(temp)/len(temp)\n",
    "print(\"The average is\", avg,\"Max is\", max(temp))"
   ]
  },
  {
   "cell_type": "code",
   "execution_count": 33,
   "metadata": {
    "collapsed": false
   },
   "outputs": [
    {
     "data": {
      "image/png": "[encoded data removed]",
      "text/plain": [
       "<matplotlib.figure.Figure at 0x7fbb9f659438>"
      ]
     },
     "metadata": {},
     "output_type": "display_data"
    }
   ],
   "source": [
    "plt.hist(temp,bins, alpha=0.5, histtype='bar')\n",
    "plt.show()"
   ]
  },
  {
   "cell_type": "code",
   "execution_count": 34,
   "metadata": {
    "collapsed": false
   },
   "outputs": [
    {
     "name": "stdout",
     "output_type": "stream",
     "text": [
      "more than 0 37143 more than 1 1740\n"
     ]
    }
   ],
   "source": [
    "above0=len(dF[dF[\"links\"]>0])\n",
    "above1=len(dF[dF[\"links\"]>1])\n",
    "print(\"more than 0\",above0,\"more than 1\",above1)"
   ]
  },
  {
   "cell_type": "markdown",
   "metadata": {},
   "source": [
    "### 0 is 0, 1 is 1, >1 is 2"
   ]
  },
  {
   "cell_type": "code",
   "execution_count": 35,
   "metadata": {
    "collapsed": false
   },
   "outputs": [],
   "source": [
    "temp_store=[]\n",
    "for x in range(0,len(temp)):\n",
    "    if(temp[x]==0):\n",
    "        temp_store.append(temp[x])\n",
    "    elif(temp[x]==1):\n",
    "        temp_store.append(temp[x])\n",
    "    else:\n",
    "        temp_store.append(2)"
   ]
  },
  {
   "cell_type": "code",
   "execution_count": 36,
   "metadata": {
    "collapsed": false
   },
   "outputs": [
    {
     "data": {
      "text/plain": [
       "(38392, 2, 0)"
      ]
     },
     "execution_count": 36,
     "metadata": {},
     "output_type": "execute_result"
    }
   ],
   "source": [
    "len(temp_store),max(temp_store),min(temp_store)"
   ]
  },
  {
   "cell_type": "code",
   "execution_count": 37,
   "metadata": {
    "collapsed": false
   },
   "outputs": [
    {
     "data": {
      "image/png": "[encoded data removed]",
      "text/plain": [
       "<matplotlib.figure.Figure at 0x7fbb9cc3c0b8>"
      ]
     },
     "metadata": {},
     "output_type": "display_data"
    }
   ],
   "source": [
    "plt.hist(temp_store,bins, alpha=0.5, histtype='bar')\n",
    "plt.show()"
   ]
  },
  {
   "cell_type": "markdown",
   "metadata": {},
   "source": [
    "## Also, adding the links and setting value which is biography + signature to the dataframe."
   ]
  },
  {
   "cell_type": "code",
   "execution_count": 38,
   "metadata": {
    "collapsed": false
   },
   "outputs": [],
   "source": [
    "dF[\"setting_value\"]=dF[\"signature\"].astype(str)+dF[\"biography\"]\n",
    "dF[\"links\"]=temp_store"
   ]
  },
  {
   "cell_type": "markdown",
   "metadata": {},
   "source": [
    "The first table of spam words, the score_number_table1, is the number of times the spam words did occur in that setting_value. The score_table1 is the number of spam words used in the setting_value.\n",
    "\n",
    "The second table of spam words, the score_number_table2, is the number of times the spam words did occur in that setting_value. The score_table2 is the number of spam words used in the setting_value."
   ]
  },
  {
   "cell_type": "markdown",
   "metadata": {},
   "source": [
    "## 3) Regular expressions in the email- regex [a-z,A-z,_-.]+[0-9]\n"
   ]
  },
  {
   "cell_type": "code",
   "execution_count": 39,
   "metadata": {
    "collapsed": true
   },
   "outputs": [],
   "source": [
    "emailRegex = re.compile('^[a-zA-Z._-]{3,30}[0-9]{0,4}$', re.VERBOSE)"
   ]
  },
  {
   "cell_type": "code",
   "execution_count": 40,
   "metadata": {
    "collapsed": true
   },
   "outputs": [],
   "source": [
    "temp=dF[\"email\"].str.contains('edu',case=False)\n",
    "count=0\n",
    "temp_store=[]\n",
    "for x in range(0,len(dF)):\n",
    "    user=str(dF[\"email\"].iloc[x])\n",
    "    user=user.split('@')[0]\n",
    "    final=re.search(emailRegex, str(user), flags=0)\n",
    "    if(temp.iloc[x]):\n",
    "        count=count+1\n",
    "        temp_store.append(1)\n",
    "    else:\n",
    "        if(final!=None):\n",
    "            count=count+1\n",
    "            temp_store.append(1)\n",
    "        else:\n",
    "            temp_store.append(0)"
   ]
  },
  {
   "cell_type": "code",
   "execution_count": 41,
   "metadata": {
    "collapsed": true
   },
   "outputs": [],
   "source": [
    "dF[\"regex\"]=temp_store"
   ]
  },
  {
   "cell_type": "markdown",
   "metadata": {},
   "source": [
    "## 4) Adding URL's which have been used more than 1 time and do not have edu at the end or .edu. or ends with edu or .edu/"
   ]
  },
  {
   "cell_type": "code",
   "execution_count": 42,
   "metadata": {
    "collapsed": true
   },
   "outputs": [],
   "source": [
    "dF['url']=dF['url'].fillna('0')"
   ]
  },
  {
   "cell_type": "code",
   "execution_count": 43,
   "metadata": {
    "collapsed": false
   },
   "outputs": [
    {
     "name": "stdout",
     "output_type": "stream",
     "text": [
      "This is the total 10871 Total number of URLs 2928\n"
     ]
    }
   ],
   "source": [
    "dFn=dF.groupby(dF[\"url\"]).size().to_frame('count').reset_index()\n",
    "dFn=dFn[dFn[\"count\"]>1]\n",
    "dFn=dFn.sort_values(\"count\", ascending=False)\n",
    "dFn=dFn[dFn[\"url\"].str.contains('http')]\n",
    "dFn=dFn[dFn[\"url\"].str.contains('orcid')==False]\n",
    "dFn=dFn[dFn[\"url\"].str.contains('.edu.',regex=False)==False]\n",
    "dFn=dFn[dFn[\"url\"].str.contains('.edu/',regex=False)==False]\n",
    "dFn=dFn[dFn[\"url\"].str.endswith('edu')==False]\n",
    "#dFn[dFn[\"url\"].str.contains('edu')]\n",
    "dFn=dFn.reset_index()\n",
    "dFn=dFn[[\"url\",\"count\"]]\n",
    "print(\"This is the total\",dFn[\"count\"].sum(),\"Total number of URLs\",len(dFn))\n",
    "dFn=dFn[\"url\"].tolist()"
   ]
  },
  {
   "cell_type": "code",
   "execution_count": 44,
   "metadata": {
    "collapsed": true
   },
   "outputs": [],
   "source": [
    "urls=dF['url'].tolist()"
   ]
  },
  {
   "cell_type": "code",
   "execution_count": 45,
   "metadata": {
    "collapsed": false
   },
   "outputs": [
    {
     "name": "stdout",
     "output_type": "stream",
     "text": [
      "Total time 0.532719612121582\n"
     ]
    }
   ],
   "source": [
    "import time\n",
    "import multiprocessing\n",
    "from multiprocessing import Pool\n",
    "from multiprocessing import Process, Manager\n",
    "def spam_count(url):\n",
    "    #print(user_id[0])\n",
    "    a=0\n",
    "    for x in range(0, len(dFn)):\n",
    "        if(dFn[x]==url):\n",
    "            a=1\n",
    "            break;\n",
    "    return a\n",
    "\n",
    "p = Pool(16)\n",
    "#list_val=temp[[\"user_id\",\"setting_value\"]].tolist()\n",
    "t0=time.time()\n",
    "at5=p.map(spam_count,urls)\n",
    "t1=time.time()\n",
    "total=t1-t0\n",
    "print(\"Total time\",total)"
   ]
  },
  {
   "cell_type": "markdown",
   "metadata": {},
   "source": [
    "### Adding the spam urls to the dataframe\n"
   ]
  },
  {
   "cell_type": "code",
   "execution_count": 46,
   "metadata": {
    "collapsed": true
   },
   "outputs": [],
   "source": [
    "dF[\"spam_urls\"]=at5"
   ]
  },
  {
   "cell_type": "markdown",
   "metadata": {},
   "source": [
    "## 5) email addresses ending with .edu or has .edu.\n"
   ]
  },
  {
   "cell_type": "code",
   "execution_count": 47,
   "metadata": {
    "collapsed": true
   },
   "outputs": [],
   "source": [
    "temp=(dF['email'].str.endswith(\"edu\", na=False)) | (dF[\"url\"].str.contains('.edu.',regex=False))"
   ]
  },
  {
   "cell_type": "code",
   "execution_count": 48,
   "metadata": {
    "collapsed": true
   },
   "outputs": [],
   "source": [
    "temp=temp.tolist()"
   ]
  },
  {
   "cell_type": "code",
   "execution_count": 49,
   "metadata": {
    "collapsed": true
   },
   "outputs": [],
   "source": [
    "at6=[]\n",
    "for x in range(0,len(temp)):\n",
    "    if(temp[x]==True):\n",
    "        at6.append(1)\n",
    "    else:\n",
    "        at6.append(0)"
   ]
  },
  {
   "cell_type": "code",
   "execution_count": 50,
   "metadata": {
    "collapsed": true
   },
   "outputs": [],
   "source": [
    "dF[\"edu_emails\"]=at6"
   ]
  },
  {
   "cell_type": "markdown",
   "metadata": {},
   "source": [
    "## 6) Similar names case: 'first_name' = last_name' OR 'middle_name'='last_name' OR 'middle_name'='first_name'"
   ]
  },
  {
   "cell_type": "code",
   "execution_count": 51,
   "metadata": {
    "collapsed": true
   },
   "outputs": [],
   "source": [
    "temp=(dF['first_name']==dF['last_name']) | (dF['middle_name']==dF['last_name']) | (dF['middle_name']==dF['first_name'])"
   ]
  },
  {
   "cell_type": "code",
   "execution_count": 52,
   "metadata": {
    "collapsed": true
   },
   "outputs": [],
   "source": [
    "temp=temp.tolist()"
   ]
  },
  {
   "cell_type": "code",
   "execution_count": 53,
   "metadata": {
    "collapsed": true
   },
   "outputs": [],
   "source": [
    "at7=[]\n",
    "for x in range(0,len(temp)):\n",
    "    if(temp[x]==True):\n",
    "        at7.append(1)\n",
    "    else:\n",
    "        at7.append(0)"
   ]
  },
  {
   "cell_type": "code",
   "execution_count": 54,
   "metadata": {
    "collapsed": true
   },
   "outputs": [],
   "source": [
    "dF[\"flmname\"]=at7"
   ]
  },
  {
   "cell_type": "markdown",
   "metadata": {},
   "source": [
    "## 7) Scholarly words used in the setting value"
   ]
  },
  {
   "cell_type": "code",
   "execution_count": 55,
   "metadata": {
    "collapsed": true
   },
   "outputs": [],
   "source": [
    "dF1=pd.read_csv(\"term_frequency.csv\",encoding = \"utf-8\",index_col=0)"
   ]
  },
  {
   "cell_type": "code",
   "execution_count": 56,
   "metadata": {
    "collapsed": false
   },
   "outputs": [
    {
     "name": "stderr",
     "output_type": "stream",
     "text": [
      "/home/hok14/anaconda3/lib/python3.6/site-packages/IPython/core/interactiveshell.py:2717: DtypeWarning: Columns (9,22,23) have mixed types. Specify dtype option on import or set low_memory=False.\n",
      "  interactivity=interactivity, compiler=compiler, result=result)\n"
     ]
    }
   ],
   "source": [
    "dF2=pd.read_csv(\"setting_value.csv\")"
   ]
  },
  {
   "cell_type": "code",
   "execution_count": 57,
   "metadata": {
    "collapsed": true
   },
   "outputs": [],
   "source": [
    "dF2=dF2[(~dF2.setting_value.isnull()) & (dF2.email.str.contains(\"edu\"))][:100]"
   ]
  },
  {
   "cell_type": "code",
   "execution_count": 58,
   "metadata": {
    "collapsed": true
   },
   "outputs": [],
   "source": [
    "temp=dF2.setting_value.str.split(expand=True).stack().value_counts()"
   ]
  },
  {
   "cell_type": "code",
   "execution_count": 59,
   "metadata": {
    "collapsed": false
   },
   "outputs": [],
   "source": [
    "right_words1=[]\n",
    "right_words2=[]\n",
    "for x in range(0,len(temp)):\n",
    "    #print(x)\n",
    "    for i in range(1,len(dF1)):\n",
    "        #print(str(dF1.column.loc[i]),str(temp.index[x]))\n",
    "        if(str(dF1.column.loc[i])==str(temp.index[x])):\n",
    "            #print(\"do nothing\")\n",
    "            break;\n",
    "        if(i==(len(dF1)-1)):\n",
    "            right_words1.append(temp[x])\n",
    "            right_words2.append(temp.index[x])\n",
    "            #print(str(temp.index[x]))"
   ]
  },
  {
   "cell_type": "code",
   "execution_count": 60,
   "metadata": {
    "collapsed": true
   },
   "outputs": [],
   "source": [
    "d = {'total_count': right_words1, 'value': right_words2}"
   ]
  },
  {
   "cell_type": "code",
   "execution_count": 61,
   "metadata": {
    "collapsed": true
   },
   "outputs": [],
   "source": [
    "temp2=pd.DataFrame(data=d) "
   ]
  },
  {
   "cell_type": "code",
   "execution_count": 62,
   "metadata": {
    "collapsed": true
   },
   "outputs": [],
   "source": [
    "temp2[\"value\"]=temp2[\"value\"].str.replace(\"nan\",\"\")\n",
    "temp2[\"value\"]=temp2[\"value\"].str.replace(\".\",\"\")\n",
    "temp2[\"value\"]=temp2[\"value\"].str.replace(\",\",\"\")\n",
    "temp2[\"value\"]=temp2[\"value\"].str.replace('\"',\"\")"
   ]
  },
  {
   "cell_type": "code",
   "execution_count": 63,
   "metadata": {
    "collapsed": true
   },
   "outputs": [],
   "source": [
    "temp3=temp2.groupby(\"value\").sum()\n",
    "temp4=temp3[temp3[\"total_count\"]>4].sort_values(\"total_count\")\n",
    "temp4=temp4.reset_index()"
   ]
  },
  {
   "cell_type": "code",
   "execution_count": 64,
   "metadata": {
    "collapsed": true
   },
   "outputs": [],
   "source": [
    "#temp4.to_csv(\"actual_words.csv\")"
   ]
  },
  {
   "cell_type": "code",
   "execution_count": 65,
   "metadata": {
    "collapsed": false
   },
   "outputs": [],
   "source": [
    "temp4=temp4[\"value\"].tolist()"
   ]
  },
  {
   "cell_type": "markdown",
   "metadata": {},
   "source": [
    "### Filtering the high frequency words by removing the most commonly used words."
   ]
  },
  {
   "cell_type": "code",
   "execution_count": 66,
   "metadata": {
    "collapsed": true
   },
   "outputs": [],
   "source": [
    "dF2=dF"
   ]
  },
  {
   "cell_type": "code",
   "execution_count": 67,
   "metadata": {
    "collapsed": true
   },
   "outputs": [],
   "source": [
    "first=dF2[\"user_id\"].tolist()\n",
    "second=dF2[\"setting_value\"].tolist()\n",
    "third=[]\n",
    "nan=np.nan\n",
    "for x in range(0,len(first)):\n",
    "    if(second[x] is nan):\n",
    "        second[x]=\"0\"\n",
    "    third.append([first[x],second[x]])"
   ]
  },
  {
   "cell_type": "code",
   "execution_count": 68,
   "metadata": {
    "collapsed": false
   },
   "outputs": [
    {
     "data": {
      "text/plain": [
       "38392"
      ]
     },
     "execution_count": 68,
     "metadata": {},
     "output_type": "execute_result"
    }
   ],
   "source": [
    "len(third)"
   ]
  },
  {
   "cell_type": "code",
   "execution_count": 69,
   "metadata": {
    "collapsed": false
   },
   "outputs": [
    {
     "name": "stdout",
     "output_type": "stream",
     "text": [
      "Total time 0.3451364040374756\n"
     ]
    }
   ],
   "source": [
    "import time\n",
    "import multiprocessing\n",
    "from multiprocessing import Pool\n",
    "from multiprocessing import Process, Manager\n",
    "\n",
    "def spam_count(user_id):\n",
    "    #print(user_id[0])\n",
    "    count=0\n",
    "    trial=[]\n",
    "    for x in range(0, len(temp4)):\n",
    "        temp_count=0\n",
    "        if str(temp4[x]) in str(user_id[1]):\n",
    "            temp_count=1\n",
    "        else:\n",
    "            temp_count=0\n",
    "        if(temp_count>0):\n",
    "            trial.append(str(temp4[x]))\n",
    "        count=temp_count+count\n",
    "    #print(user_id[0],count,trial)\n",
    "    return (user_id[0],count,trial)\n",
    "\n",
    "p = Pool(16)\n",
    "#list_val=temp[[\"user_id\",\"setting_value\"]].tolist()\n",
    "t0=time.time()\n",
    "#print(third)\n",
    "at3=p.map(spam_count,third)\n",
    "t1=time.time()\n",
    "total=t1-t0\n",
    "print(\"Total time\",total)\n",
    "p.close()"
   ]
  },
  {
   "cell_type": "code",
   "execution_count": 70,
   "metadata": {
    "collapsed": false
   },
   "outputs": [],
   "source": [
    "arr=[]\n",
    "\n",
    "for x in range(0,len(at3)):\n",
    "    if((at3[x][1])>0):\n",
    "        arr.append(1)\n",
    "    else:\n",
    "        arr.append(0)"
   ]
  },
  {
   "cell_type": "code",
   "execution_count": 71,
   "metadata": {
    "collapsed": true
   },
   "outputs": [],
   "source": [
    "dF2[\"score_truth_table\"]=arr"
   ]
  },
  {
   "cell_type": "code",
   "execution_count": 72,
   "metadata": {
    "collapsed": true
   },
   "outputs": [],
   "source": [
    "dF[\"score_truth_table\"]=dF2[\"score_truth_table\"]"
   ]
  },
  {
   "cell_type": "markdown",
   "metadata": {},
   "source": [
    "## 8) Jaccard distance with n-grams set to 3"
   ]
  },
  {
   "cell_type": "code",
   "execution_count": 73,
   "metadata": {
    "collapsed": true
   },
   "outputs": [],
   "source": [
    "def ngrams(string, n=3):\n",
    "    string = re.sub(r'[,-./]',r'', string)\n",
    "    string=string.lower()\n",
    "    ngrams = zip(*[string[i:] for i in range(n)])\n",
    "    return [''.join(ngram) for ngram in ngrams]"
   ]
  },
  {
   "cell_type": "code",
   "execution_count": 74,
   "metadata": {
    "collapsed": true
   },
   "outputs": [],
   "source": [
    "def jaccard_similarity(x,y):\n",
    "    intersection_cardinality = len(set.intersection(*[set(x), set(y)]))\n",
    "    union_cardinality = len(set.union(*[set(x), set(y)]))\n",
    "    try:\n",
    "        check=intersection_cardinality/float(union_cardinality)\n",
    "    except:\n",
    "        check=0\n",
    "    return check"
   ]
  },
  {
   "cell_type": "code",
   "execution_count": 75,
   "metadata": {
    "collapsed": true
   },
   "outputs": [],
   "source": [
    "temp=dF"
   ]
  },
  {
   "cell_type": "markdown",
   "metadata": {},
   "source": [
    "### 8.1) First name and Last name with username"
   ]
  },
  {
   "cell_type": "code",
   "execution_count": 76,
   "metadata": {
    "collapsed": true
   },
   "outputs": [],
   "source": [
    "temp[\"given_name\"]=temp[\"first_name\"].astype(str)+temp[\"last_name\"]"
   ]
  },
  {
   "cell_type": "code",
   "execution_count": 77,
   "metadata": {
    "collapsed": false
   },
   "outputs": [],
   "source": [
    "arr=[]\n",
    "\n",
    "for x in range(0, len(temp)):\n",
    "    a=str(temp.iloc[x].given_name)\n",
    "    a=ngrams(a)\n",
    "    b=str(temp.iloc[x].username)\n",
    "    b=ngrams(b)\n",
    "    #print(a,b)\n",
    "    arr.append(jaccard_similarity(a,b))    "
   ]
  },
  {
   "cell_type": "code",
   "execution_count": 78,
   "metadata": {
    "collapsed": true
   },
   "outputs": [],
   "source": [
    "temp[\"jaccard\"]=arr"
   ]
  },
  {
   "cell_type": "markdown",
   "metadata": {},
   "source": [
    "### 8.2) First name and last name with email before @"
   ]
  },
  {
   "cell_type": "code",
   "execution_count": 79,
   "metadata": {
    "collapsed": false
   },
   "outputs": [
    {
     "name": "stderr",
     "output_type": "stream",
     "text": [
      "/home/hok14/anaconda3/lib/python3.6/site-packages/ipykernel/__main__.py:1: FutureWarning: currently extract(expand=None) means expand=False (return Index/Series/DataFrame) but in a future version of pandas this will be changed to expand=True (return DataFrame)\n",
      "  if __name__ == '__main__':\n"
     ]
    }
   ],
   "source": [
    "temp[\"email\"]=temp.email.str.extract(\"(.*)@\")"
   ]
  },
  {
   "cell_type": "code",
   "execution_count": 80,
   "metadata": {
    "collapsed": false
   },
   "outputs": [],
   "source": [
    "arr2=[]\n",
    "\n",
    "for x in range(0, len(temp)):\n",
    "    a=str(temp.iloc[x].given_name)\n",
    "    a=ngrams(a)\n",
    "    b=str(temp.iloc[x].email)\n",
    "    b=ngrams(b)\n",
    "    #print(a,b)\n",
    "    arr2.append(jaccard_similarity(a,b))"
   ]
  },
  {
   "cell_type": "code",
   "execution_count": 81,
   "metadata": {
    "collapsed": true
   },
   "outputs": [],
   "source": [
    "temp[\"jaccard2\"]=arr2"
   ]
  },
  {
   "cell_type": "markdown",
   "metadata": {},
   "source": [
    "### 8.3) Username and email"
   ]
  },
  {
   "cell_type": "code",
   "execution_count": 82,
   "metadata": {
    "collapsed": true
   },
   "outputs": [],
   "source": [
    "arr3=[]\n",
    "\n",
    "for x in range(0, len(temp)):\n",
    "    a=str(temp.iloc[x].username)\n",
    "    a=ngrams(a)\n",
    "    b=str(temp.iloc[x].email)\n",
    "    b=ngrams(b)\n",
    "    #print(a,b)\n",
    "    arr3.append(jaccard_similarity(a,b))"
   ]
  },
  {
   "cell_type": "code",
   "execution_count": 83,
   "metadata": {
    "collapsed": true
   },
   "outputs": [],
   "source": [
    "temp[\"jaccard3\"]=arr3"
   ]
  },
  {
   "cell_type": "code",
   "execution_count": 84,
   "metadata": {
    "collapsed": true
   },
   "outputs": [],
   "source": [
    "temp[\"jaccard_final\"]=(temp[\"jaccard\"]<0.1) & (temp[\"jaccard2\"]<0.1) & (temp[\"jaccard3\"]<0.1)"
   ]
  },
  {
   "cell_type": "code",
   "execution_count": 85,
   "metadata": {
    "collapsed": true
   },
   "outputs": [],
   "source": [
    "temp[\"jaccard_final\"]=temp[\"jaccard_final\"].astype(int)"
   ]
  },
  {
   "cell_type": "code",
   "execution_count": 86,
   "metadata": {
    "collapsed": true
   },
   "outputs": [],
   "source": [
    "dF[\"jaccard_final\"]=temp[\"jaccard_final\"]"
   ]
  },
  {
   "cell_type": "markdown",
   "metadata": {},
   "source": [
    "## The final decision tree which gives us the spam users based on the conditions above:"
   ]
  },
  {
   "cell_type": "code",
   "execution_count": 87,
   "metadata": {
    "collapsed": false
   },
   "outputs": [],
   "source": [
    "spammers=dF[\n",
    "    ((dF[\"edu_emails\"]==0) \n",
    "    & ((dF[\"jaccard_final\"]==1)|(dF[\"flmname\"]==1))\n",
    "    & ((dF[\"regex\"]==0)|dF[\"links\"]>0)) \n",
    "    & ((dF[\"links\"]>0)|(dF[\"spam_urls\"]==1) \n",
    "       | ((dF[\"score_table\"]==1)\n",
    "          & (dF[\"score_truth_table\"]==0)))\n",
    "]"
   ]
  },
  {
   "cell_type": "code",
   "execution_count": 88,
   "metadata": {
    "collapsed": true
   },
   "outputs": [],
   "source": [
    "spammers.to_csv(\"cat_tom.csv\")"
   ]
  },
  {
   "cell_type": "code",
   "execution_count": 89,
   "metadata": {
    "collapsed": false
   },
   "outputs": [
    {
     "data": {
      "text/plain": [
       "38392"
      ]
     },
     "execution_count": 89,
     "metadata": {},
     "output_type": "execute_result"
    }
   ],
   "source": [
    "len(dF)"
   ]
  },
  {
   "cell_type": "code",
   "execution_count": 90,
   "metadata": {
    "collapsed": false
   },
   "outputs": [
    {
     "data": {
      "text/plain": [
       "33955"
      ]
     },
     "execution_count": 90,
     "metadata": {},
     "output_type": "execute_result"
    }
   ],
   "source": [
    "len(spammers)"
   ]
  },
  {
   "cell_type": "code",
   "execution_count": 91,
   "metadata": {
    "collapsed": false
   },
   "outputs": [
    {
     "data": {
      "text/plain": [
       "4437"
      ]
     },
     "execution_count": 91,
     "metadata": {},
     "output_type": "execute_result"
    }
   ],
   "source": [
    "len(dF)-len(spammers)"
   ]
  },
  {
   "cell_type": "code",
   "execution_count": 92,
   "metadata": {
    "collapsed": true
   },
   "outputs": [],
   "source": [
    "#33955"
   ]
  }
 ],
 "metadata": {
  "kernelspec": {
   "display_name": "Python 3",
   "language": "python",
   "name": "python3"
  },
  "language_info": {
   "codemirror_mode": {
    "name": "ipython",
    "version": 3
   },
   "file_extension": ".py",
   "mimetype": "text/x-python",
   "name": "python",
   "nbconvert_exporter": "python",
   "pygments_lexer": "ipython3",
   "version": "3.6.0"
  }
 },
 "nbformat": 4,
 "nbformat_minor": 2
}
